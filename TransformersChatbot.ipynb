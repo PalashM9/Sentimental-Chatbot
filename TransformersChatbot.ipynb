{
 "cells": [
  {
   "cell_type": "code",
   "execution_count": 2,
   "id": "5c102434",
   "metadata": {},
   "outputs": [],
   "source": [
    "from transformers import pipeline, Conversation, AutoTokenizer\n",
    "import IPython"
   ]
  },
  {
   "cell_type": "code",
   "execution_count": 3,
   "id": "b644d8dd",
   "metadata": {},
   "outputs": [],
   "source": [
    "sentiment_model_name = \"distilbert-base-uncased-finetuned-sst-2-english\"\n",
    "sentiment_analysis = pipeline(\"sentiment-analysis\", model=sentiment_model_name)"
   ]
  },
  {
   "cell_type": "code",
   "execution_count": 4,
   "id": "e9ca743e",
   "metadata": {},
   "outputs": [],
   "source": [
    "chatbot_model_name = \"microsoft/DialoGPT-medium\"\n",
    "tokenizer = AutoTokenizer.from_pretrained(chatbot_model_name, padding_side='left')\n",
    "chatbot = pipeline(\"conversational\", model=chatbot_model_name, tokenizer=tokenizer)"
   ]
  },
  {
   "cell_type": "code",
   "execution_count": 5,
   "id": "18f0962a",
   "metadata": {},
   "outputs": [],
   "source": [
    "sentiment_analysis_7 = pipeline(\"text-classification\", model=\"monologg/bert-base-cased-goemotions-original\")"
   ]
  },
  {
   "cell_type": "code",
   "execution_count": 6,
   "id": "2be383dd",
   "metadata": {},
   "outputs": [],
   "source": [
    "conversation = Conversation()"
   ]
  },
  {
   "cell_type": "code",
   "execution_count": 7,
   "id": "b3fe1a2e",
   "metadata": {},
   "outputs": [],
   "source": [
    "def generate_response(input_text):\n",
    "    \n",
    "    sentiment_result = sentiment_analysis_7(input_text)\n",
    "    sentiment = sentiment_result[0]['label']\n",
    "    \n",
    "    augmented_input = f\"Sentiment: {sentiment}. User said: {input_text}\"\n",
    "        \n",
    "    conversation = Conversation(augmented_input)\n",
    "    chatbot(conversation)\n",
    "\n",
    "    response = conversation.generated_responses[-1]\n",
    "    return response, sentiment"
   ]
  },
  {
   "cell_type": "code",
   "execution_count": 8,
   "id": "dcb1be24",
   "metadata": {},
   "outputs": [],
   "source": [
    "def chat_with_bot():\n",
    "    print(\"Sentimental Chatbot\")\n",
    "    while True:\n",
    "        user_input = input(\"You: \")\n",
    "        if user_input.lower() == 'quit':\n",
    "            break\n",
    "        response, sentiment = generate_response(user_input)\n",
    "        print(f\"Detected Sentiment: {sentiment}\")\n",
    "        print(\"Chatbot:\", response)"
   ]
  },
  {
   "cell_type": "code",
   "execution_count": 9,
   "id": "9eb1c63b",
   "metadata": {
    "scrolled": true
   },
   "outputs": [
    {
     "name": "stdout",
     "output_type": "stream",
     "text": [
      "Sentimental Chatbot\n",
      "You: i know it seems strange writing to you after all this time and i honestly feel appalled at my behavior as a mother\n"
     ]
    },
    {
     "name": "stderr",
     "output_type": "stream",
     "text": [
      "\n",
      "No chat template is defined for this tokenizer - using the default template for the GPT2TokenizerFast class. If the default is not appropriate for your model, please set `tokenizer.chat_template` to an appropriate template. See https://huggingface.co/docs/transformers/main/chat_templating for more information.\n",
      "\n",
      "The attention mask and the pad token id were not set. As a consequence, you may observe unexpected behavior. Please pass your input's `attention_mask` to obtain reliable results.\n",
      "Setting `pad_token_id` to `eos_token_id`:50256 for open-end generation.\n",
      "A decoder-only architecture is being used, but right-padding was detected! For correct generation results, please set `padding_side='left'` when initializing the tokenizer.\n"
     ]
    },
    {
     "name": "stdout",
     "output_type": "stream",
     "text": [
      "Detected Sentiment: fear\n",
      "Chatbot: I'm not sure what you mean by that.\n",
      "You: im feeling bitchy as hell tonight\n"
     ]
    },
    {
     "name": "stderr",
     "output_type": "stream",
     "text": [
      "The attention mask and the pad token id were not set. As a consequence, you may observe unexpected behavior. Please pass your input's `attention_mask` to obtain reliable results.\n",
      "Setting `pad_token_id` to `eos_token_id`:50256 for open-end generation.\n",
      "A decoder-only architecture is being used, but right-padding was detected! For correct generation results, please set `padding_side='left'` when initializing the tokenizer.\n"
     ]
    },
    {
     "name": "stdout",
     "output_type": "stream",
     "text": [
      "Detected Sentiment: annoyance\n",
      "Chatbot: I'm feeling a little bit of that too.\n",
      "You: quit\n"
     ]
    }
   ],
   "source": [
    "chat_with_bot()"
   ]
  }
 ],
 "metadata": {
  "kernelspec": {
   "display_name": "Python 3 (ipykernel)",
   "language": "python",
   "name": "python3"
  },
  "language_info": {
   "codemirror_mode": {
    "name": "ipython",
    "version": 3
   },
   "file_extension": ".py",
   "mimetype": "text/x-python",
   "name": "python",
   "nbconvert_exporter": "python",
   "pygments_lexer": "ipython3",
   "version": "3.10.9"
  }
 },
 "nbformat": 4,
 "nbformat_minor": 5
}
